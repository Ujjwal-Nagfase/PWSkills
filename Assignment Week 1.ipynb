{
 "cells": [
  {
   "cell_type": "code",
   "execution_count": 23,
   "id": "3ffb8bf8",
   "metadata": {},
   "outputs": [
    {
     "name": "stdout",
     "output_type": "stream",
     "text": [
      "<class 'str'>\n",
      "<class 'list'>\n",
      "<class 'float'>\n",
      "<class 'tuple'>\n"
     ]
    }
   ],
   "source": [
    "# Q1. Create one variable containing following type of data:\n",
    "\n",
    "s = \"Ujjwal Nagfase\"\n",
    "l = [1,\"Ujjwal\",1.255,True]\n",
    "f = 6.95\n",
    "t = (\"Java\", \"C++\", \"Python\")\n",
    "\n",
    "print(type(s))\n",
    "print(type(l))\n",
    "print(type(f))\n",
    "print(type(t))"
   ]
  },
  {
   "cell_type": "code",
   "execution_count": 21,
   "id": "eb3920ed",
   "metadata": {},
   "outputs": [
    {
     "name": "stdout",
     "output_type": "stream",
     "text": [
      "<class 'str'>\n",
      "<class 'str'>\n",
      "<class 'list'>\n",
      "<class 'float'>\n"
     ]
    }
   ],
   "source": [
    "# Q2. Given are some following variables containing data:\n",
    "\n",
    "var1 = \"\"\n",
    "var2 = '[DS,ML,Python]'\n",
    "var3 = ['DS','ML','Python']\n",
    "var4 = 1.\n",
    "\n",
    "print(type(var1))\n",
    "print(type(var2))\n",
    "print(type(var3))\n",
    "print(type(var4))"
   ]
  },
  {
   "cell_type": "code",
   "execution_count": 9,
   "id": "027bf264",
   "metadata": {},
   "outputs": [
    {
     "name": "stdout",
     "output_type": "stream",
     "text": [
      "10\n"
     ]
    }
   ],
   "source": [
    "# Q3. Explain the use of the following operators using an example:\n",
    "\n",
    "# (i) / = Division Operator: This operator divides the first operand by the second operand.\n",
    "x = 10\n",
    "y = 5\n",
    "z = x/y\n",
    "print(x)"
   ]
  },
  {
   "cell_type": "code",
   "execution_count": 26,
   "id": "aa59668c",
   "metadata": {},
   "outputs": [
    {
     "name": "stdout",
     "output_type": "stream",
     "text": [
      "6.0\n"
     ]
    }
   ],
   "source": [
    "#(ii) % = Modulus Operator: Returns the remainder after division is performed\n",
    "x = 33\n",
    "y = 9\n",
    "z = x%y\n",
    "print(float(z))"
   ]
  },
  {
   "cell_type": "code",
   "execution_count": 27,
   "id": "c351b7f8",
   "metadata": {},
   "outputs": [
    {
     "name": "stdout",
     "output_type": "stream",
     "text": [
      "2\n"
     ]
    }
   ],
   "source": [
    "#(iii) // = Floor Division Operator: divides the first operand by the second and rounds the result down to the nearest integer\n",
    "x = 10\n",
    "y = 5\n",
    "z = x//y\n",
    "print(z)"
   ]
  },
  {
   "cell_type": "code",
   "execution_count": 30,
   "id": "2caec575",
   "metadata": {},
   "outputs": [
    {
     "name": "stdout",
     "output_type": "stream",
     "text": [
      "32\n"
     ]
    }
   ],
   "source": [
    "#(iv) ** = Power Operator: Returns first raised to power second\n",
    "x = 2\n",
    "y = 5\n",
    "z = x**y\n",
    "print(z)"
   ]
  },
  {
   "cell_type": "code",
   "execution_count": 63,
   "id": "e35a0329",
   "metadata": {},
   "outputs": [
    {
     "name": "stdout",
     "output_type": "stream",
     "text": [
      "Element present in List: 25 , Data type: <class 'int'> \n",
      "\n",
      "Element present in List: Ujjwal , Data type: <class 'str'> \n",
      "\n",
      "Element present in List: 91.56 , Data type: <class 'float'> \n",
      "\n",
      "Element present in List: True , Data type: <class 'bool'> \n",
      "\n",
      "Element present in List: 37 , Data type: <class 'int'> \n",
      "\n",
      "Element present in List: Nagfase , Data type: <class 'str'> \n",
      "\n",
      "Element present in List: False , Data type: <class 'bool'> \n",
      "\n",
      "Element present in List: 71.92 , Data type: <class 'float'> \n",
      "\n",
      "Element present in List: Python , Data type: <class 'str'> \n",
      "\n",
      "Element present in List: 56 , Data type: <class 'int'> \n",
      "\n"
     ]
    }
   ],
   "source": [
    "#Q4. Create a list of length 10 of your choice containing multiple types of data. Using for loop print the element and its data type.\n",
    "\n",
    "l = [25,\"Ujjwal\",91.56,True,37,\"Nagfase\",False,71.92,\"Python\",56]\n",
    "for i in l:\n",
    "    print(\"Element present in List:\",i,\", Data type:\",type(i),\"\\n\")\n",
    "    #print(type(i))"
   ]
  },
  {
   "cell_type": "code",
   "execution_count": 55,
   "id": "a4244808",
   "metadata": {},
   "outputs": [
    {
     "name": "stdout",
     "output_type": "stream",
     "text": [
      "5 is purely divisible by 5\n",
      "Remainder is zero \n",
      "\n",
      "10 is purely divisible by 5\n",
      "Remainder is zero \n",
      "\n",
      "15 is purely divisible by 5\n",
      "Remainder is zero \n",
      "\n",
      "20 is purely divisible by 5\n",
      "Remainder is zero \n",
      "\n",
      "25 is purely divisible by 5\n",
      "Remainder is zero \n",
      "\n",
      "30 is purely divisible by 5\n",
      "Remainder is zero \n",
      "\n",
      "35 is purely divisible by 5\n",
      "Remainder is zero \n",
      "\n",
      "40 is purely divisible by 5\n",
      "Remainder is zero \n",
      "\n",
      "45 is purely divisible by 5\n",
      "Remainder is zero \n",
      "\n",
      "50 is purely divisible by 5\n",
      "Remainder is zero \n",
      "\n"
     ]
    }
   ],
   "source": [
    "#5. Using a while loop, verify if the number A is purely divisible by number B and if so then how many times it can be divisible.\n",
    "\n",
    "# Purely divisible means the remainder will be zero\n",
    "\n",
    "a = range(1,51)\n",
    "b = 5\n",
    "i = 0\n",
    "while i < 50:\n",
    "    c = a[i] % b\n",
    "    if c == 0:\n",
    "        print(a[i],\"is purely divisible by\",b)\n",
    "        print(\"Remainder is zero \\n\")\n",
    "        \n",
    "    i = i+1"
   ]
  },
  {
   "cell_type": "code",
   "execution_count": 62,
   "id": "365bfaef",
   "metadata": {},
   "outputs": [
    {
     "name": "stdout",
     "output_type": "stream",
     "text": [
      "List: [0, 1, 2, 3, 4, 5, 6, 7, 8, 9, 10, 11, 12, 13, 14, 15, 16, 17, 18, 19, 20, 21, 22, 23, 24] \n",
      "\n",
      "0 is divisible by 3 \n",
      "\n",
      "3 is divisible by 3 \n",
      "\n",
      "6 is divisible by 3 \n",
      "\n",
      "9 is divisible by 3 \n",
      "\n",
      "12 is divisible by 3 \n",
      "\n",
      "15 is divisible by 3 \n",
      "\n",
      "18 is divisible by 3 \n",
      "\n",
      "21 is divisible by 3 \n",
      "\n",
      "24 is divisible by 3 \n",
      "\n"
     ]
    }
   ],
   "source": [
    "#Q6. Create a list containing 25 int type data. Using for loop and if-else condition print if the element is divisible by 3 or not.\n",
    "\n",
    "Clist = range(25)\n",
    "Nlist = list(Clist)\n",
    "i = 0\n",
    "#type(Nlist) : To check type of variable\n",
    "#type(Nlist[1]) : To check type of data present in list\n",
    "\n",
    "print(\"List:\",Nlist,\"\\n\") \n",
    "\n",
    "\n",
    "for i in Nlist:\n",
    "    c = 3\n",
    "    if Nlist[i] % c == 0:\n",
    "        print(Nlist[i],\"is divisible by 3 \\n\")\n",
    "    \n"
   ]
  },
  {
   "cell_type": "code",
   "execution_count": 70,
   "id": "b4138435",
   "metadata": {},
   "outputs": [
    {
     "name": "stdout",
     "output_type": "stream",
     "text": [
      "[2, 43, 23, 'Nagfase', True, (4+5j), 23, 45, False]\n"
     ]
    }
   ],
   "source": [
    "#Q7. What do you understand about mutable and immutable data types? Give examples for both showing this property.\n",
    "\n",
    "#(i) Mutable Data type: Data present in mutable objects can be changed even after it is created. e.g., list,dict and set\n",
    "# List is a mutable object because you can change the data present in it at any particular index\n",
    "\n",
    "l=[2,43,'Ujjwal',\"Nagfase\",True,4+5j,23,45,False]\n",
    "l[2] = 23\n",
    "print(l)"
   ]
  },
  {
   "cell_type": "code",
   "execution_count": 67,
   "id": "aba08155",
   "metadata": {},
   "outputs": [
    {
     "ename": "TypeError",
     "evalue": "'str' object does not support item assignment",
     "output_type": "error",
     "traceback": [
      "\u001b[1;31m---------------------------------------------------------------------------\u001b[0m",
      "\u001b[1;31mTypeError\u001b[0m                                 Traceback (most recent call last)",
      "Cell \u001b[1;32mIn[67], line 5\u001b[0m\n\u001b[0;32m      1\u001b[0m \u001b[38;5;66;03m#(ii) Immutable Data type: An immutable object can’t be changed after it is created. e.g.,int, float, bool, string\u001b[39;00m\n\u001b[0;32m      2\u001b[0m \u001b[38;5;66;03m#String is an immutable obejct, because you cannot change a particular character of a string at a particular index\u001b[39;00m\n\u001b[0;32m      4\u001b[0m s \u001b[38;5;241m=\u001b[39m \u001b[38;5;124m\"\u001b[39m\u001b[38;5;124mUjjwal\u001b[39m\u001b[38;5;124m\"\u001b[39m\n\u001b[1;32m----> 5\u001b[0m \u001b[43ms\u001b[49m\u001b[43m[\u001b[49m\u001b[38;5;241;43m1\u001b[39;49m\u001b[43m]\u001b[49m \u001b[38;5;241m=\u001b[39m \u001b[38;5;124m\"\u001b[39m\u001b[38;5;124mk\u001b[39m\u001b[38;5;124m\"\u001b[39m\n",
      "\u001b[1;31mTypeError\u001b[0m: 'str' object does not support item assignment"
     ]
    }
   ],
   "source": [
    "#(ii) Immutable Data type: An immutable object can’t be changed after it is created. e.g.,int, float, bool, string\n",
    "#String is an immutable obejct, because you cannot change a particular character of a string at a particular index\n",
    "\n",
    "s = \"Ujjwal\"\n",
    "s[1] = \"k\""
   ]
  },
  {
   "cell_type": "code",
   "execution_count": null,
   "id": "7fde12f4",
   "metadata": {},
   "outputs": [],
   "source": []
  }
 ],
 "metadata": {
  "kernelspec": {
   "display_name": "Python 3 (ipykernel)",
   "language": "python",
   "name": "python3"
  },
  "language_info": {
   "codemirror_mode": {
    "name": "ipython",
    "version": 3
   },
   "file_extension": ".py",
   "mimetype": "text/x-python",
   "name": "python",
   "nbconvert_exporter": "python",
   "pygments_lexer": "ipython3",
   "version": "3.11.0"
  }
 },
 "nbformat": 4,
 "nbformat_minor": 5
}
